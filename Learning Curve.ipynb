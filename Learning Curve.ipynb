{
 "cells": [
  {
   "cell_type": "code",
   "execution_count": 1,
   "metadata": {
    "collapsed": false
   },
   "outputs": [],
   "source": [
    "import numpy as np\n",
    "import matplotlib.pyplot as plt\n",
    "\n",
    "\n",
    "####### IGNORE IT (Keep it just for now, before double checking) #########\n",
    "# def ErrorFunction(pred, real):\n",
    "# #   ErrorFunction Compute cost for the regularized linear regression with multiple variables.\n",
    "# #   It computes the cost of using theta as the parameter for linear regression to fit the \n",
    "# #   data points in X and y, and returns the Error.\n",
    "\n",
    "#     Error = sum(np.power((pred - real),2))/(2*m) \n",
    "#     return Error\n",
    "\n",
    "# PredictFunction = lambda image_stack: model.predict_proba([image_stack], batch_size=1) \n",
    "##############################\n",
    "\n",
    "\n",
    "def Plot_LearningCurve(X_train, Y_train, X_val, Y_val):\n",
    "    error_train, error_val = [], [] # error_train, and error_val are lists that contain error \n",
    "    m = length(Y_test)\n",
    "    for i in range(m):\n",
    "        model.fit(X_train[0:i, :], Y_train[0:i], batch_size=32, nb_epoch=10, verbose=1) \n",
    "        ######### change the batch size, nb_epoch, verbose etc #########\n",
    "        error_train += [1 - model.evaluate(X_test[0:i, :], Y_test[0:i], verbose=0)[1]] \n",
    "        error_val += [1 - model.evaluate(X_val, Y_test, verbose=0)[1]] \n",
    "    plt.plot(range(m), error_train)\n",
    "    plt.plot(range(m), error_val)\n",
    "    plt.title('Learning curve for learning function')\n",
    "    plt.legend('Train', 'Cross Validation')\n",
    "    plt.xlabel('Number of training examples')\n",
    "    plt.ylabel('Error')\n",
    "    plt.axis([0, 50, 0, 150])\n"
   ]
  },
  {
   "cell_type": "code",
   "execution_count": null,
   "metadata": {
    "collapsed": true
   },
   "outputs": [],
   "source": [
    "Plot_LearningCurve(X_test, Y_test, X_val, Y_val)"
   ]
  }
 ],
 "metadata": {
  "kernelspec": {
   "display_name": "python3.5",
   "language": "python",
   "name": "python3.5"
  },
  "language_info": {
   "codemirror_mode": {
    "name": "ipython",
    "version": 3
   },
   "file_extension": ".py",
   "mimetype": "text/x-python",
   "name": "python",
   "nbconvert_exporter": "python",
   "pygments_lexer": "ipython3",
   "version": "3.6.0"
  }
 },
 "nbformat": 4,
 "nbformat_minor": 2
}
